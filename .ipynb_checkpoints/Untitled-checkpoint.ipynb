{
 "cells": [
  {
   "cell_type": "code",
   "execution_count": 1,
   "metadata": {},
   "outputs": [
    {
     "name": "stdout",
     "output_type": "stream",
     "text": [
      "<?xml version=\"1.0\" encoding=\"UTF-8\"?><StatisticItemList>\n",
      "<list_total_count>61</list_total_count>\n",
      "<row>\n",
      "<STAT_CODE>043Y070</STAT_CODE>\n",
      "<STAT_NAME>5.8.2 지역별 소비유형별 개인 신용카드</STAT_NAME>\n",
      "<GRP_CODE>Group1</GRP_CODE>\n",
      "<GRP_NAME>지역코드</GRP_NAME>\n",
      "<P_ITEM_CODE/>\n",
      "<ITEM_CODE>X</ITEM_CODE>\n",
      "<ITEM_NAME>전국</ITEM_NAME>\n",
      "<CYCLE>MM</CYCLE>\n",
      "<START_TIME>200912</START_TIME>\n",
      "<END_TIME>202010</END_TIME>\n",
      "<DATA_CNT>10742</DATA_CNT>\n",
      "</row>\n",
      "</StatisticItemList>\n"
     ]
    }
   ],
   "source": [
    "import requests \n",
    "\n",
    "import xml.etree.ElementTree as ET \n",
    "\n",
    "\n",
    "\n",
    "## 호출하려는 OpenAPI URL를 정의합니다.\n",
    "\n",
    "url = \"http://ecos.bok.or.kr/api/StatisticItemList/sample/xml/kr/1/1/043Y070/\"\n",
    "\n",
    "\n",
    "\n",
    "## 정의된 OpenAPI URL을 호출합니다.\n",
    "\n",
    "response = requests.get(url)\n",
    "\n",
    "\n",
    "\n",
    "## http 요청이 성공했을때 API의 리턴값을 가져옵니다.\n",
    "\n",
    "if response.status_code == 200:\n",
    "\n",
    "    try:\n",
    "\n",
    "        contents = response.text\n",
    "\n",
    "        ecosRoot = ET.fromstring(contents)\n",
    "\n",
    "        \n",
    "\n",
    "        ## 호출결과에 오류가 있었는지 확인합니다.\n",
    "\n",
    "        if ecosRoot[0].text[:4] in (\"INFO\",\"ERRO\"):\n",
    "\n",
    "            print(ecosRoot[0].text + \" : \" + ecosRoot[1].text)\n",
    "\n",
    "            ## 오류메세지를 확인하고 처리합니다.\n",
    "\n",
    "        else:\n",
    "\n",
    "            print(contents)\n",
    "\n",
    "            ## 결과값을 활용하여 필요한 프로그램을 작성합니다.\n",
    "\n",
    "    except Exception as e:\n",
    "\n",
    "        print(str(e))\n",
    "\n",
    "        ##예외가 발생했을때 처리합니다."
   ]
  },
  {
   "cell_type": "code",
   "execution_count": null,
   "metadata": {},
   "outputs": [],
   "source": []
  },
  {
   "cell_type": "code",
   "execution_count": null,
   "metadata": {},
   "outputs": [],
   "source": []
  }
 ],
 "metadata": {
  "kernelspec": {
   "display_name": "Python 3",
   "language": "python",
   "name": "python3"
  },
  "language_info": {
   "codemirror_mode": {
    "name": "ipython",
    "version": 3
   },
   "file_extension": ".py",
   "mimetype": "text/x-python",
   "name": "python",
   "nbconvert_exporter": "python",
   "pygments_lexer": "ipython3",
   "version": "3.8.0"
  }
 },
 "nbformat": 4,
 "nbformat_minor": 4
}
