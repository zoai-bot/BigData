{
 "cells": [
  {
   "cell_type": "code",
   "execution_count": 36,
   "metadata": {},
   "outputs": [
    {
     "name": "stdout",
     "output_type": "stream",
     "text": [
      "OrderedDict([('StatisticItemList', OrderedDict([('list_total_count', '11'), ('row', OrderedDict([('STAT_CODE', '064Y001'), ('STAT_NAME', '6.1.1 주식시장(일별)'), ('GRP_CODE', 'Group1'), ('GRP_NAME', '항목선택'), ('P_ITEM_CODE', '0001000'), ('ITEM_CODE', '0087000'), ('ITEM_NAME', '주식시장-거래량(만주, 시간외거래분 포함)'), ('CYCLE', 'DD'), ('START_TIME', '19950103'), ('END_TIME', '20210115'), ('DATA_CNT', '6658')]))]))])\n"
     ]
    }
   ],
   "source": [
    "import requests \n",
    "import xml.etree.ElementTree as ET\n",
    "from urllib.request import urlopen\n",
    "import json\n",
    "from bs4 import BeautifulSoup\n",
    "import xmltodict\n",
    "\n",
    "\n",
    "## 호출하려는 OpenAPI URL를 정의합니다.\n",
    "\n",
    "url = \"http://ecos.bok.or.kr/api/StatisticItemList/BI5X80RRY4XIAS7FQ4BH/xml/kr/1/1/064Y001/\"\n",
    "\n",
    "## 정의된 OpenAPI URL을 호출합니다.\n",
    "\n",
    "response = requests.get(url)\n",
    "\n",
    "soup = BeautifulSoup(response.content, 'lxml')\n",
    "aa = soup.select('p_item_code')\n",
    "\n",
    "\n",
    "req = requests.get(url).content\n",
    "xmlobject = xmltodict.parse(req)\n",
    "\n",
    "print(xmlobject)\n",
    "\n"
   ]
  },
  {
   "cell_type": "code",
   "execution_count": 62,
   "metadata": {},
   "outputs": [
    {
     "ename": "TypeError",
     "evalue": "__init__() got an unexpected keyword argument 'coloumn'",
     "output_type": "error",
     "traceback": [
      "\u001b[1;31m---------------------------------------------------------------------------\u001b[0m",
      "\u001b[1;31mTypeError\u001b[0m                                 Traceback (most recent call last)",
      "\u001b[1;32m<ipython-input-62-c5003fc42aa9>\u001b[0m in \u001b[0;36m<module>\u001b[1;34m\u001b[0m\n\u001b[0;32m      8\u001b[0m \u001b[0mex_corona\u001b[0m \u001b[1;33m=\u001b[0m \u001b[0mpd\u001b[0m\u001b[1;33m.\u001b[0m\u001b[0mread_excel\u001b[0m\u001b[1;33m(\u001b[0m\u001b[1;34m\"코로나_19_발생현황__국내__월__20210118173702.xlsx\"\u001b[0m\u001b[1;33m,\u001b[0m \u001b[0mengine\u001b[0m\u001b[1;33m=\u001b[0m\u001b[1;34m'openpyxl'\u001b[0m\u001b[1;33m)\u001b[0m\u001b[1;33m\u001b[0m\u001b[1;33m\u001b[0m\u001b[0m\n\u001b[0;32m      9\u001b[0m \u001b[0ma\u001b[0m \u001b[1;33m=\u001b[0m \u001b[0mnp\u001b[0m\u001b[1;33m.\u001b[0m\u001b[0marray\u001b[0m\u001b[1;33m(\u001b[0m\u001b[0mpd_eco\u001b[0m\u001b[1;33m.\u001b[0m\u001b[0mcolumns\u001b[0m\u001b[1;33m[\u001b[0m\u001b[1;36m4\u001b[0m\u001b[1;33m:\u001b[0m\u001b[1;33m]\u001b[0m\u001b[1;33m)\u001b[0m\u001b[1;33m\u001b[0m\u001b[1;33m\u001b[0m\u001b[0m\n\u001b[1;32m---> 10\u001b[1;33m \u001b[0mpad\u001b[0m \u001b[1;33m=\u001b[0m \u001b[0mpd\u001b[0m\u001b[1;33m.\u001b[0m\u001b[0mDataFrame\u001b[0m\u001b[1;33m(\u001b[0m\u001b[0mcoloumn\u001b[0m\u001b[1;33m=\u001b[0m\u001b[0ma\u001b[0m\u001b[1;33m)\u001b[0m\u001b[1;33m\u001b[0m\u001b[1;33m\u001b[0m\u001b[0m\n\u001b[0m\u001b[0;32m     11\u001b[0m \u001b[0mpad\u001b[0m\u001b[1;33m\u001b[0m\u001b[1;33m\u001b[0m\u001b[0m\n",
      "\u001b[1;31mTypeError\u001b[0m: __init__() got an unexpected keyword argument 'coloumn'"
     ]
    }
   ],
   "source": [
    "import pandas as pd\n",
    "from openpyxl import workbook\n",
    "\n",
    "pd_economic = pd.DataFrame()\n",
    "\n",
    "#4월 1일부터 1월15일\n",
    "ex_eco = pd.read_excel(\"ECOS_TABLE_20210118_154159.xlsx\", engine='openpyxl')\n",
    "ex_corona = pd.read_excel(\"코로나_19_발생현황__국내__월__20210118173702.xlsx\", engine='openpyxl')\n",
    "a = np.array(pd_eco.columns[4:])\n",
    "pad = pd.DataFrame(coloumn=a)\n",
    "pad"
   ]
  },
  {
   "cell_type": "code",
   "execution_count": null,
   "metadata": {},
   "outputs": [],
   "source": [
    "import numpy as np\n"
   ]
  }
 ],
 "metadata": {
  "kernelspec": {
   "display_name": "Python 3",
   "language": "python",
   "name": "python3"
  },
  "language_info": {
   "codemirror_mode": {
    "name": "ipython",
    "version": 3
   },
   "file_extension": ".py",
   "mimetype": "text/x-python",
   "name": "python",
   "nbconvert_exporter": "python",
   "pygments_lexer": "ipython3",
   "version": "3.8.0"
  }
 },
 "nbformat": 4,
 "nbformat_minor": 4
}
